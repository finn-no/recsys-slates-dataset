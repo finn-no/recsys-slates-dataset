{
 "cells": [
  {
   "cell_type": "code",
   "execution_count": null,
   "metadata": {},
   "outputs": [],
   "source": [
    "#default_exp datahelper"
   ]
  },
  {
   "cell_type": "markdown",
   "metadata": {},
   "source": [
    "# datahelper\n",
    "\n",
    "> Generic helper functions that are independent of the specific machine learning library used"
   ]
  },
  {
   "cell_type": "code",
   "execution_count": null,
   "metadata": {},
   "outputs": [],
   "source": [
    "#export\n",
    "import logging\n",
    "from google_drive_downloader import GoogleDriveDownloader as gdd\n",
    "def download_data_files(data_dir : str = \"data\", overwrite=False):\n",
    "    \"\"\"\n",
    "    Downloads the data from google drive.\n",
    "    If files exist they will not be downloaded again unless overwrite=True\n",
    "    \"\"\"\n",
    "    gdrive_file_ids = {\n",
    "        'data.npz' : '1VXKXIvPCJ7z4BCa4G_5-Q2XMAD7nXOc7',\n",
    "        'ind2val.json' : '1WOCKfuttMacCb84yQYcRjxjEtgPp6F4N',\n",
    "        'itemattr.npz' : '1rKKyMQZqWp8vQ-Pl1SeHrQxzc5dXldnR'\n",
    "    }\n",
    "    for filename, gdrive_id in gdrive_file_ids.items():\n",
    "        logging.info(\"Downloading {}\".format(filename))\n",
    "        gdd.download_file_from_google_drive(file_id=gdrive_id,\n",
    "                                        dest_path=\"{}/{}\".format(data_dir, filename),\n",
    "                                        overwrite=overwrite)\n",
    "    logging.info(\"Done downloading all files.\")\n",
    "    return True\n"
   ]
  },
  {
   "cell_type": "markdown",
   "metadata": {},
   "source": []
  }
 ],
 "metadata": {
  "kernelspec": {
   "display_name": "Python 3.8.8 64-bit ('anaconda3': virtualenv)",
   "name": "python3"
  }
 },
 "nbformat": 4,
 "nbformat_minor": 2
}
