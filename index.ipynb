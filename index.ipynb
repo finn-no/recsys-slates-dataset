{
 "cells": [
  {
   "cell_type": "code",
   "execution_count": null,
   "metadata": {},
   "outputs": [],
   "source": [
    "#hide\n",
    "from recsys_slates_dataset.core import *"
   ]
  },
  {
   "cell_type": "markdown",
   "metadata": {},
   "source": [
    "# FINN.no Slate Dataset for Recommender Systems\n",
    "> Data and helper functions for FINN.no slate dataset containing both viewed items and clicks from the FINN.no second hand marketplace.\n"
   ]
  },
  {
   "cell_type": "markdown",
   "metadata": {},
   "source": [
    "We release the *FINN.no slate dataset* to improve recommender systems research.\n",
    "The dataset includes both search and recommendation interactions between users and the platform over a 30 day period.\n",
    "The dataset has logged both exposures and clicks, *including interactions where the user did not click on any of the items in the slate*.\n",
    "To our knowledge there exist no such large-scale dataset, and we hope this contribution can help researchers constructing improved models and improve offline evaluation metrics.\n",
    "\n",
    "![A visualization of a presented slate to the user on the frontpage of FINN.no](finn-frontpage.png)\n",
    "\n",
    "For each user u and interaction step t we recorded all items in the visible slate ![equ](https://latex.codecogs.com/gif.latex?a_t^u(s_t^u) ) (up to the scroll length ![equ](https://latex.codecogs.com/gif.latex?s_t^u)), and the user's click response ![equ](https://latex.codecogs.com/gif.latex?c_t^u).\n",
    "The dataset consists of 37.4 million interactions, |U| ≈ 2.3) million  users and |I| ≈ 1.3 million items that belong to one of G = 290 item groups. For a detailed description of the data please see the [paper](https://arxiv.org/abs/2104.15046).\n",
    "\n",
    "![A visualization of a presented slate to the user on the frontpage of FINN.no](interaction_illustration.png)\n",
    "\n",
    "FINN.no is the leading marketplace in the Norwegian classifieds market and provides users with a platform to buy and sell general merchandise, cars, real estate, as well as house rentals and job offerings.\n",
    "For questions, email simen.eide@finn.no or file an issue."
   ]
  },
  {
   "cell_type": "markdown",
   "metadata": {},
   "source": [
    "## Install"
   ]
  },
  {
   "cell_type": "markdown",
   "metadata": {},
   "source": [
    "`pip install recsys_slates_dataset`"
   ]
  },
  {
   "cell_type": "markdown",
   "metadata": {},
   "source": [
    "## How to use\n",
    "\n",
    "To download the generic numpy data files:"
   ]
  },
  {
   "cell_type": "code",
   "execution_count": null,
   "metadata": {},
   "outputs": [
    {
     "data": {
      "text/plain": [
       "True"
      ]
     },
     "execution_count": null,
     "metadata": {},
     "output_type": "execute_result"
    }
   ],
   "source": [
    "from recsys_slates_dataset import datahelper\n",
    "datahelper.download_data_files()"
   ]
  },
  {
   "cell_type": "markdown",
   "metadata": {},
   "source": [
    "Download and prepare data into ready-to-use pytorch dataloaders:"
   ]
  },
  {
   "cell_type": "markdown",
   "metadata": {},
   "source": [
    "```\n",
    "from recsys_slates_dataset import dataset_torch\n",
    "ind2val, itemattr, dataloaders = dataset_torch.load_dataloaders()\n",
    "```"
   ]
  },
  {
   "cell_type": "markdown",
   "metadata": {},
   "source": [
    "## Organization\n",
    "The repository is organized as follows:\n",
    "- The dataset is placed in (`data/`).\n",
    "- The code open sourced from the article [\"Dynamic Slate Recommendation with Gated Recurrent Units and Thompson Sampling\"](https://arxiv.org/abs/2104.15046) is found in (`code/`). However, we are in the process of making the data more generally available which makes the code incompatible with the current (newer) version of the data. Please use [the v1.0 release of the repository](https://github.com/finn-no/recsys-slates-dataset/tree/v1.0) for a compatible version of the code and dataset.\n",
    "\n",
    "## Quickstart dataset [![Open In Colab](https://colab.research.google.com/assets/colab-badge.svg)](https://colab.research.google.com/github/finn-no/recsys-slates-dataset/blob/master/quickstart-finn-recsys-slate-data.ipynb)\n",
    "We provide a quickstart jupyter notebook that runs on Google Colab (quickstart-finn-recsys-slate-data.ipynb) which includes all necessary steps above.\n",
    "\n",
    "NB: This quickstart notebook is currently incompatible with the main branch. \n",
    "We will update the notebook as soon as we have published a pip-package. In the meantime, please use [the v1.0 release of the repository](https://github.com/finn-no/recsys-slates-dataset/tree/v1.0)\n",
    "\n",
    "### Dataset files\n",
    "\n",
    "The dataset `data.npz` contains the following fields:\n",
    "- userId: The unique identifier of the user.\n",
    "- click: The items the user clicked on in each of the 20 presented slates.\n",
    "- click_idx: The index the clicked item was on in each of the 20 presented slates.\n",
    "- slate_lengths: The length of the 20 presented slates.\n",
    "- slate: All the items in each of the 20 presented slates.\n",
    "- interaction_type: The recommendation slate can be the result of a search query (1), a recommendation (2) or can be undefined (0).\n",
    "\n",
    "The dataset `itemattr.npz` contains the categories ranging from 0 to 290. Corresponding with the 290 unique groups that the items belong to. These 290 unique groups are constructed using a combination of categorical information and the geographical location. \n",
    "\n",
    "The dataset  `ind2val.json` contains the mapping between the indices and the values of the categories (e.g. `\"287\": \"JOB, Rogaland\"`) and interaction types (e.g. `\"1\": \"search\"`).                                                                                                                                                                  \n",
    "\n",
    "## Citations\n",
    "This repository accompany the paper [\"Dynamic Slate Recommendation with Gated Recurrent Units and Thompson Sampling\"](https://arxiv.org/abs/2104.15046) by Simen Eide, David S. Leslie and Arnoldo Frigessi.\n",
    "The article is under review, and the pre-print can be obtained [here](https://arxiv.org/abs/2104.15046).\n",
    "\n",
    "If you use either the code, data or paper, please consider citing the paper.\n",
    "\n",
    "```\n",
    "@article{eide2021dynamic,\n",
    "      title={Dynamic Slate Recommendation with Gated Recurrent Units and Thompson Sampling}, \n",
    "      author={Simen Eide and David S. Leslie and Arnoldo Frigessi},\n",
    "      year={2021},\n",
    "      eprint={2104.15046},\n",
    "      archivePrefix={arXiv},\n",
    "      primaryClass={stat.ML}\n",
    "}\n",
    "```\n",
    "\n",
    "## Todo\n",
    "This repository is currently *work in progress*, and we will provide descriptions and tutorials. Suggestions and contributions to make the material more available is welcome.\n",
    "There are some features of the repository that we are working on:\n",
    "\n",
    "- [x] Release the dataset as numpy objects instead of pytorch arrays. This will help non-pytorch users to more easily utilize the data\n",
    "- [x] Maintain a pytorch dataset for easy usage\n",
    "- [ ] Create a pip package for easier installation and usage. the package should download the dataset using a function.\n",
    "- [ ] Make the quickstart guide compatible with the pip package and numpy format.\n",
    "- [ ] Add easily useable functions that compute relevant metrics such as hitrate, log-likelihood etc.\n",
    "- [ ] Distribute the data on other platforms such as kaggle.\n",
    "- [ ] Add a short description of the data in the readme.md directly.\n",
    "\n",
    "As the current state is in early stage, it makes sense to allow the above changes non-backward compatible. \n",
    "However, this should be completed within the next couple of months."
   ]
  },
  {
   "cell_type": "markdown",
   "metadata": {},
   "source": []
  }
 ],
 "metadata": {
  "kernelspec": {
   "display_name": "Python 3",
   "language": "python",
   "name": "python3"
  },
  "language_info": {
   "codemirror_mode": {
    "name": "ipython",
    "version": 3
   },
   "file_extension": ".py",
   "mimetype": "text/x-python",
   "name": "python",
   "nbconvert_exporter": "python",
   "pygments_lexer": "ipython3",
   "version": "3.7.10"
  }
 },
 "nbformat": 4,
 "nbformat_minor": 2
}
