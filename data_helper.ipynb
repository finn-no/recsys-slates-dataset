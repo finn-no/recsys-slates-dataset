{
 "cells": [
  {
   "cell_type": "raw",
   "metadata": {},
   "source": [
    "---\n",
    "description: Generic helper functions that are independent of the specific machine\n",
    "  learning library used\n",
    "output-file: data_helper.html\n",
    "title: datahelper\n",
    "\n",
    "---\n",
    "\n"
   ]
  },
  {
   "cell_type": "code",
   "execution_count": null,
   "metadata": {},
   "outputs": [],
   "source": [
    "#| default_exp data_helper"
   ]
  },
  {
   "cell_type": "code",
   "execution_count": null,
   "metadata": {},
   "outputs": [],
   "source": [
    "#| export\n",
    "import logging\n",
    "import gdown\n",
    "import os\n",
    "def download_data_files(data_dir : str = \"data\", overwrite=False, progbar=True, use_int32=True):\n",
    "    \"\"\"\n",
    "    Downloads the data from google drive.\n",
    "\n",
    "    - data_dir: relative path to where data is downloaded.\n",
    "    - overwrite: If files exist they will not be downloaded again. NB/todo: the function does not check if there is a complete download of the file.\n",
    "    - progbar: simple progbar that says how much data that has been downloaded for each file.\n",
    "    - use_int32: The interaction data is a very large file and is not possible to load into memory in some cases (e.g. google colab). Therefore, we recommend using the int32 data type when loading the data.\n",
    "    \"\"\"\n",
    "\n",
    "    if use_int32:\n",
    "        data_fileid = '1XHqyk01qi9qnvBTfWWwqgDzrdjv1eBVV'\n",
    "    else:\n",
    "        data_fileid = '1VXKXIvPCJ7z4BCa4G_5-Q2XMAD7nXOc7'\n",
    "\n",
    "    gdrive_file_ids = {\n",
    "        'data.npz' : data_fileid,\n",
    "        'ind2val.json' : '1WOCKfuttMacCb84yQYcRjxjEtgPp6F4N',\n",
    "        'itemattr.npz' : '1rKKyMQZqWp8vQ-Pl1SeHrQxzc5dXldnR'\n",
    "    }\n",
    "\n",
    "    if not os.path.exists(data_dir):\n",
    "        os.makedirs(data_dir)\n",
    "\n",
    "    for filename, gdrive_id in gdrive_file_ids.items():\n",
    "        logging.info(\"Downloading {}\".format(filename))\n",
    "\n",
    "        url = \"https://drive.google.com/uc?id={}\".format(gdrive_id)\n",
    "        output = \"{}/{}\".format(data_dir, filename)\n",
    "        gdown.download(url, output, quiet=1-progbar)\n",
    "        #gdd.download_file_from_google_drive(file_id=gdrive_id,\n",
    "        #                                dest_path=\"{}/{}\".format(data_dir, filename),\n",
    "        #                                overwrite=overwrite, showsize=progbar)\n",
    "    logging.info(\"Done downloading all files.\")\n",
    "    return True"
   ]
  },
  {
   "cell_type": "code",
   "execution_count": null,
   "metadata": {},
   "outputs": [],
   "source": []
  }
 ],
 "metadata": {
  "kernelspec": {
   "display_name": "Python 3.8.13 ('pytorch')",
   "language": "python",
   "name": "python3"
  }
 },
 "nbformat": 4,
 "nbformat_minor": 2
}
